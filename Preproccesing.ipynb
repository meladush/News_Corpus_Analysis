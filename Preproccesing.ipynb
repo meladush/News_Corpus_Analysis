{
  "cells": [
    {
      "cell_type": "code",
      "execution_count": 1,
      "id": "96de9ccd",
      "metadata": {
        "id": "96de9ccd"
      },
      "outputs": [],
      "source": [
        "import pandas as pd"
      ]
    },
    {
      "cell_type": "markdown",
      "source": [
        "Считываем json-файл с постами, выгруженными из Telegram:"
      ],
      "metadata": {
        "id": "qZCOseX2HcGe"
      },
      "id": "qZCOseX2HcGe"
    },
    {
      "cell_type": "code",
      "execution_count": 2,
      "id": "2887ca01",
      "metadata": {
        "id": "2887ca01"
      },
      "outputs": [],
      "source": [
        "corpus = pd.read_json('result.json')"
      ]
    },
    {
      "cell_type": "code",
      "execution_count": 3,
      "id": "59da83f7",
      "metadata": {
        "id": "59da83f7"
      },
      "outputs": [],
      "source": [
        "corpus.to_csv('temp_corpus.csv')"
      ]
    },
    {
      "cell_type": "code",
      "execution_count": 4,
      "id": "703bbecc",
      "metadata": {
        "id": "703bbecc"
      },
      "outputs": [],
      "source": [
        "corpus = pd.read_csv('temp_corpus.csv')"
      ]
    },
    {
      "cell_type": "markdown",
      "source": [
        "Посмотрим на содержимое датасета:"
      ],
      "metadata": {
        "id": "jzRD6rz8HYf4"
      },
      "id": "jzRD6rz8HYf4"
    },
    {
      "cell_type": "code",
      "execution_count": 5,
      "id": "3f35e6bd",
      "metadata": {
        "colab": {
          "base_uri": "https://localhost:8080/"
        },
        "id": "3f35e6bd",
        "outputId": "df76d5ef-f448-45d7-ccb3-08e1233c3fbe"
      },
      "outputs": [
        {
          "output_type": "stream",
          "name": "stdout",
          "text": [
            "<class 'pandas.core.frame.DataFrame'>\n",
            "RangeIndex: 61991 entries, 0 to 61990\n",
            "Data columns (total 5 columns):\n",
            " #   Column      Non-Null Count  Dtype \n",
            "---  ------      --------------  ----- \n",
            " 0   Unnamed: 0  61991 non-null  int64 \n",
            " 1   name        61991 non-null  object\n",
            " 2   type        61991 non-null  object\n",
            " 3   id          61991 non-null  int64 \n",
            " 4   messages    61991 non-null  object\n",
            "dtypes: int64(2), object(3)\n",
            "memory usage: 2.4+ MB\n",
            "None\n",
            "   Unnamed: 0         name            type          id  \\\n",
            "0           0  РИА Новости  public_channel  1101170442   \n",
            "1           1  РИА Новости  public_channel  1101170442   \n",
            "2           2  РИА Новости  public_channel  1101170442   \n",
            "3           3  РИА Новости  public_channel  1101170442   \n",
            "4           4  РИА Новости  public_channel  1101170442   \n",
            "\n",
            "                                            messages  \n",
            "0  {'id': 147695, 'type': 'message', 'date': '202...  \n",
            "1  {'id': 147696, 'type': 'message', 'date': '202...  \n",
            "2  {'id': 147697, 'type': 'message', 'date': '202...  \n",
            "3  {'id': 147698, 'type': 'message', 'date': '202...  \n",
            "4  {'id': 147699, 'type': 'message', 'date': '202...  \n",
            "Index(['Unnamed: 0', 'name', 'type', 'id', 'messages'], dtype='object')\n"
          ]
        }
      ],
      "source": [
        "print(corpus.info())\n",
        "print(corpus.head())\n",
        "print(corpus.columns)"
      ]
    },
    {
      "cell_type": "markdown",
      "source": [
        "Посмотрим на структуру отдельных постов:"
      ],
      "metadata": {
        "id": "ytK7ARpHIwPT"
      },
      "id": "ytK7ARpHIwPT"
    },
    {
      "cell_type": "code",
      "execution_count": 6,
      "id": "8efbd8b8",
      "metadata": {
        "colab": {
          "base_uri": "https://localhost:8080/"
        },
        "id": "8efbd8b8",
        "outputId": "40f0fdf6-8dc2-44a5-f0fd-04cf14575bab"
      },
      "outputs": [
        {
          "output_type": "stream",
          "name": "stdout",
          "text": [
            "{'id': 147705, 'type': 'message', 'date': '2022-02-24T00:57:04', 'date_unixtime': '1645642624', 'from': 'РИА Новости', 'from_id': 'channel1101170442', 'text': [{'type': 'bold', 'text': 'На Украине в полночь (1.00 мск) вводится чрезвычайное положение. Что предполагает указ президента:\\n\\n'}, '▪️ чрезвычайное положение вводится по всей стране - кроме Донецкой и Луганской областей, где украинские силовики ведут военную операцию\\n\\n▪️ будет установлен ', {'type': 'bold', 'text': 'особый режим въезда и выезда '}, 'и по необходимости ограничена свобода передвижения \\n\\n▪️ при необходимости будут ограничено движение машин, организованы досмотры, усилена охрана общественного порядка и объектов критической инфраструктур\\n\\n▪️', {'type': 'bold', 'text': ' запрещены массовые мероприятия\\n\\n'}, '▪️ временная или бесповоротная', {'type': 'bold', 'text': ' эвакуация людей'}, ' из мест, опасных для проживания, с предоставлением им нового жилья\\n\\n▪️ при необходимости может быть введен', {'type': 'bold', 'text': ' комендантский час\\n\\n'}, '▪️ призывникам, военнообязанным и резервистам ', {'type': 'bold', 'text': 'запрещено менять место проживания'}, ' без уведомления властей\\n\\n', {'type': 'bold', 'text': '▪️ запрещено распространение информации, '}, 'которая может дестабилизировать обстановку\\n\\n', {'type': 'bold', 'text': '▪️'}, ' вводится регулирование работы гражданских теле- и радиоцентров, ', {'type': 'bold', 'text': 'запрещено делать любительские радиопередатчики '}, 'для личного и коллективного пользования\\n\\n▪️ при необходимости могут быть введены особые правила использования связи и передачи информации через компьютерные сети'], 'text_entities': [{'type': 'bold', 'text': 'На Украине в полночь (1.00 мск) вводится чрезвычайное положение. Что предполагает указ президента:\\n\\n'}, {'type': 'plain', 'text': '▪️ чрезвычайное положение вводится по всей стране - кроме Донецкой и Луганской областей, где украинские силовики ведут военную операцию\\n\\n▪️ будет установлен '}, {'type': 'bold', 'text': 'особый режим въезда и выезда '}, {'type': 'plain', 'text': 'и по необходимости ограничена свобода передвижения \\n\\n▪️ при необходимости будут ограничено движение машин, организованы досмотры, усилена охрана общественного порядка и объектов критической инфраструктур\\n\\n▪️'}, {'type': 'bold', 'text': ' запрещены массовые мероприятия\\n\\n'}, {'type': 'plain', 'text': '▪️ временная или бесповоротная'}, {'type': 'bold', 'text': ' эвакуация людей'}, {'type': 'plain', 'text': ' из мест, опасных для проживания, с предоставлением им нового жилья\\n\\n▪️ при необходимости может быть введен'}, {'type': 'bold', 'text': ' комендантский час\\n\\n'}, {'type': 'plain', 'text': '▪️ призывникам, военнообязанным и резервистам '}, {'type': 'bold', 'text': 'запрещено менять место проживания'}, {'type': 'plain', 'text': ' без уведомления властей\\n\\n'}, {'type': 'bold', 'text': '▪️ запрещено распространение информации, '}, {'type': 'plain', 'text': 'которая может дестабилизировать обстановку\\n\\n'}, {'type': 'bold', 'text': '▪️'}, {'type': 'plain', 'text': ' вводится регулирование работы гражданских теле- и радиоцентров, '}, {'type': 'bold', 'text': 'запрещено делать любительские радиопередатчики '}, {'type': 'plain', 'text': 'для личного и коллективного пользования\\n\\n▪️ при необходимости могут быть введены особые правила использования связи и передачи информации через компьютерные сети'}]}\n"
          ]
        }
      ],
      "source": [
        "print(corpus['messages'].iloc[10])"
      ]
    },
    {
      "cell_type": "code",
      "execution_count": 7,
      "id": "5290b07d",
      "metadata": {
        "colab": {
          "base_uri": "https://localhost:8080/"
        },
        "id": "5290b07d",
        "outputId": "809f4e1d-cf32-4247-de51-6bd7b1bccd19"
      },
      "outputs": [
        {
          "output_type": "stream",
          "name": "stdout",
          "text": [
            "{'id': 148198, 'type': 'message', 'date': '2022-02-24T19:15:37', 'date_unixtime': '1645708537', 'from': 'РИА Новости', 'from_id': 'channel1101170442', 'photo': '(File not included. Change data exporting settings to download.)', 'width': 724, 'height': 461, 'text': '❗️У посёлка Широчанка в Ейском районе Краснодарского края зафиксировали разрыв боеприпаса, вылетевшего со стороны Украины, сообщили в ФСБ', 'text_entities': [{'type': 'plain', 'text': '❗️У посёлка Широчанка в Ейском районе Краснодарского края зафиксировали разрыв боеприпаса, вылетевшего со стороны Украины, сообщили в ФСБ'}]}\n"
          ]
        }
      ],
      "source": [
        "print(corpus['messages'].iloc[500])"
      ]
    },
    {
      "cell_type": "code",
      "execution_count": 8,
      "id": "d0a95a83",
      "metadata": {
        "colab": {
          "base_uri": "https://localhost:8080/"
        },
        "id": "d0a95a83",
        "outputId": "2e22abe6-da78-4ff0-dd37-31ed8d87e102"
      },
      "outputs": [
        {
          "output_type": "stream",
          "name": "stdout",
          "text": [
            "{'id': 148699, 'type': 'message', 'date': '2022-02-25T21:18:46', 'date_unixtime': '1645802326', 'from': 'РИА Новости', 'from_id': 'channel1101170442', 'text': 'МИД России: говорить о возможном вступлении ЛНР и ДНР в ОДКБ преждевременно', 'text_entities': [{'type': 'plain', 'text': 'МИД России: говорить о возможном вступлении ЛНР и ДНР в ОДКБ преждевременно'}]}\n"
          ]
        }
      ],
      "source": [
        "print(corpus['messages'].iloc[1000])"
      ]
    },
    {
      "cell_type": "markdown",
      "source": [
        "Оставляем только столбец messages:"
      ],
      "metadata": {
        "id": "uSNw0rbqJA3A"
      },
      "id": "uSNw0rbqJA3A"
    },
    {
      "cell_type": "code",
      "execution_count": 9,
      "id": "567019e8",
      "metadata": {
        "id": "567019e8"
      },
      "outputs": [],
      "source": [
        "corpus['messages'].to_csv('temp_corpus_new.csv', encoding=\"utf8\", index=False)\n",
        "corpus_df = pd.read_csv('temp_corpus_new.csv')"
      ]
    },
    {
      "cell_type": "code",
      "execution_count": 10,
      "id": "f73064a8",
      "metadata": {
        "colab": {
          "base_uri": "https://localhost:8080/"
        },
        "id": "f73064a8",
        "outputId": "89465a08-5a82-4396-9d85-7719f3edcdd1"
      },
      "outputs": [
        {
          "output_type": "stream",
          "name": "stdout",
          "text": [
            "(61991, 1)\n",
            "<class 'pandas.core.frame.DataFrame'>\n",
            "RangeIndex: 61991 entries, 0 to 61990\n",
            "Data columns (total 1 columns):\n",
            " #   Column    Non-Null Count  Dtype \n",
            "---  ------    --------------  ----- \n",
            " 0   messages  61991 non-null  object\n",
            "dtypes: object(1)\n",
            "memory usage: 484.4+ KB\n",
            "None\n",
            "                                            messages\n",
            "0  {'id': 147695, 'type': 'message', 'date': '202...\n",
            "1  {'id': 147696, 'type': 'message', 'date': '202...\n",
            "2  {'id': 147697, 'type': 'message', 'date': '202...\n",
            "3  {'id': 147698, 'type': 'message', 'date': '202...\n",
            "4  {'id': 147699, 'type': 'message', 'date': '202...\n"
          ]
        }
      ],
      "source": [
        "print(corpus_df.shape)\n",
        "print(corpus_df.info())\n",
        "print(corpus_df.head())"
      ]
    },
    {
      "cell_type": "markdown",
      "source": [
        "Очищаем от лишней разметки (некоторые знаки могут остаться). Если структура вашего файла отличается, код нужно изменить под ваш файл:"
      ],
      "metadata": {
        "id": "qZbaFcN5JJP3"
      },
      "id": "qZbaFcN5JJP3"
    },
    {
      "cell_type": "code",
      "execution_count": 11,
      "id": "33f5ebda",
      "metadata": {
        "id": "33f5ebda"
      },
      "outputs": [],
      "source": [
        "file_out = open('temp_corpus_out.csv', 'w', encoding=\"utf8\")\n",
        "file_out.write(\"id;date;text\\n\")\n",
        "with open('temp_corpus_new.csv', encoding=\"utf8\") as file_in:\n",
        "    file_in.readline()\n",
        "    for line in file_in:\n",
        "        line = line.strip('\"{}\"').replace(';', ',').replace(\", 'type':\", \" ;\").replace(\"'date'\", \" ; 'date'\").replace(\", 'date_unixtime\", \"; '\").replace(\", 'text_entities'\", \"; 'text_entities'\")\n",
        "        line_to_list = line.split(';')\n",
        "        new_list = []\n",
        "        new_list.append(line_to_list[0].strip('\"{}\"'))\n",
        "        new_list.append(line_to_list[2])\n",
        "        new_list.append(line_to_list[4].replace('\\\\xa0', \" \").replace('ДАННОЕ СООБЩЕНИЕ (МАТЕРИАЛ) СОЗДАНО И (ИЛИ) РАСПРОСТРАНЕНО ИНОСТРАННЫМ СРЕДСТВОМ МАССОВОЙ ИНФОРМАЦИИ, ВЫПОЛНЯЮЩИМ ФУНКЦИИ ИНОСТРАННОГО АГЕНТА, И (ИЛИ) РОССИЙСКИМ ЮРИДИЧЕСКИМ ЛИЦОМ, ВЫПОЛНЯЮЩИМ ФУНКЦИИ ИНОСТРАННОГО АГЕНТА', ' '))\n",
        "        new_line = \";\".join(new_list).replace('type', ' ').replace( 'bold', ' ').replace(\"'text': \", \" \").replace('text_link', ' ').replace('plain', ' ')\n",
        "        new_line = new_line.replace(\"[{' ': ' ',  \", '').replace(\"{' ': ' ',  ''}]}\", \"\").replace('[]}\"', '').replace(\"'}, {' ': ' ',  \", '')\n",
        "        new_line = new_line.replace(\"'id': \", \"\").replace(\"'date': \", \"\").replace(\"'text_entities': \", \"\").replace('\"\"', '\"').replace('\"\"', '\"').replace('\"\"', '\"')\n",
        "        file_out.write(new_line)\n",
        "\n",
        "file_out.close()"
      ]
    },
    {
      "cell_type": "markdown",
      "source": [
        "Получаем файл corpus_out.csv с тремя колонками: id поста, дата в формате datetime и текст поста:"
      ],
      "metadata": {
        "id": "_inxi21GITU5"
      },
      "id": "_inxi21GITU5"
    },
    {
      "cell_type": "code",
      "execution_count": 12,
      "id": "82ca63e0",
      "metadata": {
        "id": "82ca63e0"
      },
      "outputs": [],
      "source": [
        "df_new = pd.read_csv('temp_corpus_out.csv', sep=';')\n",
        "df_new = df_new.dropna()\n",
        "df_new = df_new.loc[df_new['text'] != ' ']\n",
        "df_new['date'] = pd.to_datetime(df_new['date'])\n",
        "df_new.to_csv('corpus_out.csv', encoding=\"utf8\", index=False)"
      ]
    },
    {
      "cell_type": "markdown",
      "source": [
        "Посмотрим, что в нем:"
      ],
      "metadata": {
        "id": "IeSBNMHpIk7E"
      },
      "id": "IeSBNMHpIk7E"
    },
    {
      "cell_type": "code",
      "execution_count": 13,
      "id": "394fc6ad",
      "metadata": {
        "scrolled": true,
        "colab": {
          "base_uri": "https://localhost:8080/"
        },
        "id": "394fc6ad",
        "outputId": "c1303249-9c9e-4e51-fada-f58b0f527fec"
      },
      "outputs": [
        {
          "output_type": "stream",
          "name": "stdout",
          "text": [
            "(56975, 3)\n",
            "Index(['id', 'date', 'text'], dtype='object')\n",
            "       id                date  \\\n",
            "0  147695 2022-02-24 00:01:40   \n",
            "1  147696 2022-02-24 00:15:10   \n",
            "2  147697 2022-02-24 00:19:06   \n",
            "3  147698 2022-02-24 00:19:44   \n",
            "4  147699 2022-02-24 00:31:20   \n",
            "\n",
            "                                                text  \n",
            "0   'Восточный комитет немецкой экономики заявил,...  \n",
            "1   'Боррель после разговора с Блинкеном заявил о...  \n",
            "2   'Интенсивность обстрелов Донбасса Украиной вы...  \n",
            "3   'В Москве празднуют День защитника Отечества'...  \n",
            "4   'Применение РСЗО \"Град\" по Донецку доказано, ...  \n",
            "<class 'pandas.core.frame.DataFrame'>\n",
            "Int64Index: 56975 entries, 0 to 61990\n",
            "Data columns (total 3 columns):\n",
            " #   Column  Non-Null Count  Dtype         \n",
            "---  ------  --------------  -----         \n",
            " 0   id      56975 non-null  int64         \n",
            " 1   date    56975 non-null  datetime64[ns]\n",
            " 2   text    56975 non-null  object        \n",
            "dtypes: datetime64[ns](1), int64(1), object(1)\n",
            "memory usage: 1.7+ MB\n",
            "None\n"
          ]
        }
      ],
      "source": [
        "print(df_new.shape)\n",
        "print(df_new.columns)\n",
        "print(df_new.head())\n",
        "print(df_new.info())"
      ]
    },
    {
      "cell_type": "code",
      "execution_count": 14,
      "id": "16ae2ffd",
      "metadata": {
        "colab": {
          "base_uri": "https://localhost:8080/"
        },
        "id": "16ae2ffd",
        "outputId": "1bf56c34-0a7d-496b-93a2-70f9af022056"
      },
      "outputs": [
        {
          "output_type": "stream",
          "name": "stdout",
          "text": [
            "(56975, 1)\n",
            "                                                 text\n",
            "0    'Восточный комитет немецкой экономики заявил,...\n",
            "1    'Боррель после разговора с Блинкеном заявил о...\n",
            "2    'Интенсивность обстрелов Донбасса Украиной вы...\n",
            "3    'В Москве празднуют День защитника Отечества'...\n",
            "4    'Применение РСЗО \"Град\" по Донецку доказано, ...\n",
            "5    'Зеленского могут подтолкнуть к наступлению, ...\n",
            "6    '\"Северный поток 2\" не остановлен окончательн...\n",
            "7    '❗️Военнослужащий Народной милиции ЛНР 'погиб...\n",
            "8    'Немецкий бизнес в лице Восточного комитета э...\n",
            "9    'Торги газом в Европе закрылись на уровне выш...\n",
            "10   'На Украине в полночь (1.00 мск) вводится чре...\n",
            "11   '⚡️Байден сообщил о введении санкций против о...\n",
            "12   'США готовы к дальнейшим шагам в случае эскал...\n",
            "13   'В Белом доме сообщили, что санкции будут вве...\n",
            "14   'РФ 'имеет право' защищать своих граждан в лю...\n",
            "15   'США готовы к серьезному дипломатическому вза...\n",
            "16   'Репертуар Театра Российской армии планируетс...\n",
            "17   'Масштабный план нападения Киева остаётся в с...\n",
            "18   'Роскомнадзор направил руководству компании G...\n",
            "19   'Киев не прекращает попытки дестабилизировать...\n"
          ]
        }
      ],
      "source": [
        "df_res = df_new[['text']]\n",
        "print(df_res.shape)\n",
        "print(df_res.head(20))"
      ]
    },
    {
      "cell_type": "markdown",
      "source": [
        "Устанавливаем библиотеки:"
      ],
      "metadata": {
        "id": "P9hAoqbAKVdd"
      },
      "id": "P9hAoqbAKVdd"
    },
    {
      "cell_type": "code",
      "execution_count": 15,
      "id": "57090ac8",
      "metadata": {
        "colab": {
          "base_uri": "https://localhost:8080/"
        },
        "id": "57090ac8",
        "outputId": "fea6f72f-d881-4fd9-ff82-410fc369568a"
      },
      "outputs": [
        {
          "output_type": "stream",
          "name": "stdout",
          "text": [
            "Requirement already satisfied: word2vec in /usr/local/lib/python3.10/dist-packages (0.11.1)\n",
            "Requirement already satisfied: numpy>=1.9.2 in /usr/local/lib/python3.10/dist-packages (from word2vec) (1.23.5)\n",
            "Requirement already satisfied: joblib in /usr/local/lib/python3.10/dist-packages (from word2vec) (1.3.2)\n",
            "Requirement already satisfied: pymystem3 in /usr/local/lib/python3.10/dist-packages (0.2.0)\n",
            "Requirement already satisfied: requests in /usr/local/lib/python3.10/dist-packages (from pymystem3) (2.31.0)\n",
            "Requirement already satisfied: charset-normalizer<4,>=2 in /usr/local/lib/python3.10/dist-packages (from requests->pymystem3) (3.2.0)\n",
            "Requirement already satisfied: idna<4,>=2.5 in /usr/local/lib/python3.10/dist-packages (from requests->pymystem3) (3.4)\n",
            "Requirement already satisfied: urllib3<3,>=1.21.1 in /usr/local/lib/python3.10/dist-packages (from requests->pymystem3) (2.0.4)\n",
            "Requirement already satisfied: certifi>=2017.4.17 in /usr/local/lib/python3.10/dist-packages (from requests->pymystem3) (2023.7.22)\n",
            "Requirement already satisfied: gensim in /usr/local/lib/python3.10/dist-packages (4.3.1)\n",
            "Requirement already satisfied: numpy>=1.18.5 in /usr/local/lib/python3.10/dist-packages (from gensim) (1.23.5)\n",
            "Requirement already satisfied: scipy>=1.7.0 in /usr/local/lib/python3.10/dist-packages (from gensim) (1.10.1)\n",
            "Requirement already satisfied: smart-open>=1.8.1 in /usr/local/lib/python3.10/dist-packages (from gensim) (6.3.0)\n",
            "Requirement already satisfied: pandas in /usr/local/lib/python3.10/dist-packages (1.5.3)\n",
            "Requirement already satisfied: python-dateutil>=2.8.1 in /usr/local/lib/python3.10/dist-packages (from pandas) (2.8.2)\n",
            "Requirement already satisfied: pytz>=2020.1 in /usr/local/lib/python3.10/dist-packages (from pandas) (2023.3)\n",
            "Requirement already satisfied: numpy>=1.21.0 in /usr/local/lib/python3.10/dist-packages (from pandas) (1.23.5)\n",
            "Requirement already satisfied: six>=1.5 in /usr/local/lib/python3.10/dist-packages (from python-dateutil>=2.8.1->pandas) (1.16.0)\n"
          ]
        }
      ],
      "source": [
        "!pip install word2vec\n",
        "!pip install pymystem3\n",
        "!pip install gensim\n",
        "!pip install pandas\n"
      ]
    },
    {
      "cell_type": "code",
      "source": [
        "import nltk\n",
        "nltk.download('punkt')\n",
        "nltk.download(\"stopwords\")\n",
        "from nltk.corpus import stopwords\n",
        "russian_stopwords = stopwords.words(\"russian\")"
      ],
      "metadata": {
        "colab": {
          "base_uri": "https://localhost:8080/"
        },
        "id": "xzkDIXFV7sPZ",
        "outputId": "f8ed03bf-8882-4c5d-e3a4-e3a0edcbfacd"
      },
      "id": "xzkDIXFV7sPZ",
      "execution_count": 16,
      "outputs": [
        {
          "output_type": "stream",
          "name": "stderr",
          "text": [
            "[nltk_data] Downloading package punkt to /root/nltk_data...\n",
            "[nltk_data]   Package punkt is already up-to-date!\n",
            "[nltk_data] Downloading package stopwords to /root/nltk_data...\n",
            "[nltk_data]   Package stopwords is already up-to-date!\n"
          ]
        }
      ]
    },
    {
      "cell_type": "markdown",
      "source": [
        "Выполняем очистку и лемматизацию. Получаем файлы corpus.txt (без лемматизации) и corpus_lemma.txt"
      ],
      "metadata": {
        "id": "JDPQFGiHKgiK"
      },
      "id": "JDPQFGiHKgiK"
    },
    {
      "cell_type": "code",
      "execution_count": 17,
      "id": "d532483a",
      "metadata": {
        "id": "d532483a"
      },
      "outputs": [],
      "source": [
        "# приведение в нижний регистр, удаление знаков препинания и латиницы (кроме точки в конце каждого поста), лемматизация\n",
        "\n",
        "import re\n",
        "from pymystem3 import Mystem\n",
        "\n",
        "file = open('corpus.txt', 'w', encoding=\"utf8\")\n",
        "\n",
        "for text in df_new['text']:\n",
        "    text = text.lower()\n",
        "\n",
        "    res = re.findall('[а-яё]+', text)\n",
        "    for i in res:\n",
        "        file.write(i)\n",
        "        file.write(' ')\n",
        "    file.write('.')\n",
        "file.close()\n",
        "\n",
        "\n",
        "file = open('corpus.txt', encoding=\"utf8\")\n",
        "text = file.read()\n",
        "posts = text.split('.')\n",
        "\n",
        "m = Mystem()\n",
        "\n",
        "with open('corpus_lemma.txt',\"w\", encoding=\"utf8\") as output_file:\n",
        "    for post in posts:\n",
        "        output_file.write(\"\".join(m.lemmatize(post)))\n",
        "\n",
        "file.close()"
      ]
    },
    {
      "cell_type": "markdown",
      "source": [
        "Получаем файл с лемматизацией и удалением стоп-слов corpus_lemma_minus_stopwords.txt"
      ],
      "metadata": {
        "id": "LoU8o949LtG5"
      },
      "id": "LoU8o949LtG5"
    },
    {
      "cell_type": "code",
      "source": [
        "# леммы минус стоп слова\n",
        "\n",
        "file = open('corpus_lemma.txt', encoding=\"utf8\")\n",
        "\n",
        "with open('corpus_lemma_minus_stopwords.txt',\"w\", encoding=\"utf8\") as output_file:\n",
        "    for line in file.readlines():\n",
        "        post = line.split()\n",
        "        post_new = [token for token in post if token not in russian_stopwords and len(token) >= 2]\n",
        "        output_file.write(\" \".join(post_new))\n",
        "        output_file.write(\"\\n\")"
      ],
      "metadata": {
        "id": "hKJASgYLA4L_"
      },
      "id": "hKJASgYLA4L_",
      "execution_count": 18,
      "outputs": []
    },
    {
      "cell_type": "code",
      "source": [
        "import word2vec\n",
        "import gensim\n",
        "from gensim.models.word2vec import Word2Vec"
      ],
      "metadata": {
        "id": "P22U9sbnhaF7"
      },
      "id": "P22U9sbnhaF7",
      "execution_count": 19,
      "outputs": []
    },
    {
      "cell_type": "markdown",
      "source": [
        "Получаем файл с биграммами, объединенными в фразы corpus_lemma-phrases.txt, и бинарный файл векторов для word2vec"
      ],
      "metadata": {
        "id": "AvPI1Cr-PvuO"
      },
      "id": "AvPI1Cr-PvuO"
    },
    {
      "cell_type": "code",
      "source": [
        "# леммы-фразы и бинарный файл векторов\n",
        "\n",
        "word2vec.word2phrase('corpus_lemma.txt',\n",
        "                     'corpus_lemma-phrases.txt', verbose=True)\n",
        "\n",
        "word2vec.word2vec('corpus_lemma-phrases.txt',\n",
        "                  'corpus_lemma.txt.bin', verbose=True)"
      ],
      "metadata": {
        "colab": {
          "base_uri": "https://localhost:8080/"
        },
        "id": "2r6AzNPuhpPy",
        "outputId": "21214223-ad56-498b-bda8-7930b38e5644"
      },
      "id": "2r6AzNPuhpPy",
      "execution_count": 20,
      "outputs": [
        {
          "output_type": "stream",
          "name": "stdout",
          "text": [
            "Running command: word2phrase -train corpus_lemma.txt -output corpus_lemma-phrases.txt -min-count 5 -threshold 100 -debug 2\n",
            "Starting training using file corpus_lemma.txt\n",
            "\n",
            "Vocab size (unigrams + bigrams): 317689\n",
            "Words in train file: 1535452\n",
            "Running command: word2vec -train corpus_lemma-phrases.txt -output corpus_lemma.txt.bin -size 100 -window 5 -sample 1e-3 -hs 0 -negative 5 -threads 12 -iter 5 -min-count 5 -alpha 0.025 -debug 2 -binary 0 -cbow 1\n",
            "Starting training using file corpus_lemma-phrases.txt\n",
            "Vocab size: 16336\n",
            "Words in train file: 1426869\n",
            "Alpha: 0.000185  Progress: 99.64%  Words/thread/sec: 208.33k  "
          ]
        }
      ]
    },
    {
      "cell_type": "markdown",
      "source": [
        "Дополнительно получаем файл с фразами, очищенный от стоп-слов: corpus_lemma_phrases_no_sw.txt"
      ],
      "metadata": {
        "id": "3pOXzizdP8ip"
      },
      "id": "3pOXzizdP8ip"
    },
    {
      "cell_type": "code",
      "source": [
        "# леммы-фразы минус стоп слова\n",
        "\n",
        "file = open('corpus_lemma-phrases.txt', encoding=\"utf8\")\n",
        "\n",
        "with open('corpus_lemma_phrases_no_sw.txt',\"w\", encoding=\"utf8\") as output_file:\n",
        "    for line in file.readlines():\n",
        "        post = line.split()\n",
        "        post_new = [token for token in post if token not in russian_stopwords and len(token) >= 2]\n",
        "\n",
        "        output_file.write(\" \".join(post_new))\n",
        "        output_file.write(\"\\n\")"
      ],
      "metadata": {
        "id": "fUq8oNcv98oC"
      },
      "id": "fUq8oNcv98oC",
      "execution_count": 21,
      "outputs": []
    }
  ],
  "metadata": {
    "kernelspec": {
      "display_name": "Python 3",
      "name": "python3"
    },
    "language_info": {
      "codemirror_mode": {
        "name": "ipython",
        "version": 3
      },
      "file_extension": ".py",
      "mimetype": "text/x-python",
      "name": "python",
      "nbconvert_exporter": "python",
      "pygments_lexer": "ipython3",
      "version": "3.9.5"
    },
    "toc": {
      "base_numbering": 1,
      "nav_menu": {},
      "number_sections": true,
      "sideBar": true,
      "skip_h1_title": true,
      "title_cell": "Table of Contents",
      "title_sidebar": "Contents",
      "toc_cell": true,
      "toc_position": {},
      "toc_section_display": true,
      "toc_window_display": true
    },
    "colab": {
      "provenance": [],
      "gpuType": "T4",
      "toc_visible": true
    },
    "accelerator": "GPU"
  },
  "nbformat": 4,
  "nbformat_minor": 5
}